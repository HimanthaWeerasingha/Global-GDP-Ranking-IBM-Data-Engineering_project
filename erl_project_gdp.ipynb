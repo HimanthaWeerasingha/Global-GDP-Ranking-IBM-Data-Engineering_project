{
 "cells": [
  {
   "cell_type": "markdown",
   "metadata": {},
   "source": [
    "Practice python project for Data Enginnering"
   ]
  },
  {
   "cell_type": "code",
   "execution_count": 70,
   "metadata": {},
   "outputs": [],
   "source": [
    "## Import libraries\n",
    "\n",
    "import numpy as np\n",
    "import pandas as pd\n",
    "from bs4 import BeautifulSoup\n",
    "from datetime import datetime\n",
    "import sqlite3\n",
    "import requests"
   ]
  },
  {
   "cell_type": "code",
   "execution_count": 71,
   "metadata": {},
   "outputs": [],
   "source": [
    "## Function for data extraction\n",
    "\n",
    "def extract(url, table_attribis):\n",
    "    \"extracts the required information from the website and saves it to a dataframe.\"\n",
    "\n",
    "    #Extract the webpage as text\n",
    "    webpage = requests.get(url).text\n",
    "\n",
    "    #Parse the text into HTML  Object\n",
    "    data = BeautifulSoup(webpage, 'html.parser')\n",
    "\n",
    "    #Create empty data frame\n",
    "    df = pd.DataFrame(columns=table_attribis)\n",
    "\n",
    "    #Extract tables from the data \n",
    "    tables = data.find_all(\"tbody\")\n",
    "\n",
    "    #Extract the rows for corresponding table\n",
    "    rows = tables[2].find_all(\"tr\")\n",
    "\n",
    "    #Insert table data into DF\n",
    "    for row in rows:\n",
    "        col = row.find_all('td')\n",
    "        if len(col) != 0:\n",
    "            if col[0].find(\"a\") is not None and '—' not in col[2]:\n",
    "                data_dict = {\"Country\": col[0].a.contents[0], # Get the first content inside the <a> tag\n",
    "                            \"GDP_USD_millions\": col[2].contents[0]}\n",
    "                df_temp = pd.DataFrame(data_dict, index = [0])\n",
    "                df = pd.concat([df, df_temp], ignore_index=True)\n",
    "\n",
    "    return df"
   ]
  },
  {
   "cell_type": "code",
   "execution_count": 72,
   "metadata": {},
   "outputs": [],
   "source": [
    "## Function for data transformation\n",
    "\n",
    "def transform(df):\n",
    "    \"convert GDP information from currrency format to float values. convert USD(millions) to USD(Billion) rounding to 2 decimal places\"\n",
    "\n",
    "    #Convert USD million to billion\n",
    "    l = df['GDP_USD_millions'].to_list()\n",
    "    l = [ np.round(float(\"\".join(x.split(',')))/1000,2) for x in l ]\n",
    "\n",
    "    df['GDP_USD_millions'] = l\n",
    "    df.rename(columns={'GDP_USD_millions':\"GDP_USD_billion\"}, inplace=True)\n",
    "    return df\n"
   ]
  },
  {
   "cell_type": "code",
   "execution_count": 73,
   "metadata": {},
   "outputs": [],
   "source": [
    "# Function for load data into csv\n",
    "\n",
    "def load_csv(df, csv_path):\n",
    "    \"Save the data in CSV format\"\n",
    "    df.to_csv(csv_path)\n",
    "             "
   ]
  },
  {
   "cell_type": "code",
   "execution_count": 74,
   "metadata": {},
   "outputs": [],
   "source": [
    "# Function for load data into db\n",
    "\n",
    "def load_to_db(df, sql_connection, table_name):\n",
    "    df.to_sql(table_name, sql_connection, if_exists='replace', index=False) #Prevents writing the DataFrame index as a separate column.\n"
   ]
  },
  {
   "cell_type": "code",
   "execution_count": 75,
   "metadata": {},
   "outputs": [],
   "source": [
    "# Function to run queries\n",
    "\n",
    "def run_query(query_statement, sql_connection):\n",
    "    print(query_statement)\n",
    "    query_output = pd.read_sql(query_statement, sql_connection)\n",
    "    print(query_output)"
   ]
  },
  {
   "cell_type": "code",
   "execution_count": 76,
   "metadata": {},
   "outputs": [],
   "source": [
    "# function to take logs\n",
    "\n",
    "def log_progress(message, log_file_path):\n",
    "    time_stamp_format = \"%Y-%m-%d-%H:%M:%S\"\n",
    "    now = datetime.now()\n",
    "    time_stamp = now.strftime(time_stamp_format)\n",
    "\n",
    "    with open(log_file_path, 'a') as file:\n",
    "        file.write(time_stamp + \" : \" + message + \"\\n\")"
   ]
  },
  {
   "cell_type": "code",
   "execution_count": 77,
   "metadata": {},
   "outputs": [],
   "source": [
    "## Initiate parameters\n",
    "\n",
    "url = 'https://web.archive.org/web/20230902185326/https://en.wikipedia.org/wiki/List_of_countries_by_GDP_%28nominal%29'\n",
    "table_attribs = ['Country', 'GDP_USD_millions']\n",
    "db_name = 'World_Economies.db'\n",
    "table_name = 'Countries_by_GDP'\n",
    "csv_path  = './Countries_by_GDP.csv'\n",
    "log_file_path = './etl_project_log.txt'"
   ]
  },
  {
   "cell_type": "code",
   "execution_count": 78,
   "metadata": {},
   "outputs": [
    {
     "data": {
      "text/html": [
       "<div>\n",
       "<style scoped>\n",
       "    .dataframe tbody tr th:only-of-type {\n",
       "        vertical-align: middle;\n",
       "    }\n",
       "\n",
       "    .dataframe tbody tr th {\n",
       "        vertical-align: top;\n",
       "    }\n",
       "\n",
       "    .dataframe thead th {\n",
       "        text-align: right;\n",
       "    }\n",
       "</style>\n",
       "<table border=\"1\" class=\"dataframe\">\n",
       "  <thead>\n",
       "    <tr style=\"text-align: right;\">\n",
       "      <th></th>\n",
       "      <th>Country</th>\n",
       "      <th>GDP_USD_millions</th>\n",
       "    </tr>\n",
       "  </thead>\n",
       "  <tbody>\n",
       "    <tr>\n",
       "      <th>0</th>\n",
       "      <td>United States</td>\n",
       "      <td>26,854,599</td>\n",
       "    </tr>\n",
       "    <tr>\n",
       "      <th>1</th>\n",
       "      <td>China</td>\n",
       "      <td>19,373,586</td>\n",
       "    </tr>\n",
       "    <tr>\n",
       "      <th>2</th>\n",
       "      <td>Japan</td>\n",
       "      <td>4,409,738</td>\n",
       "    </tr>\n",
       "    <tr>\n",
       "      <th>3</th>\n",
       "      <td>Germany</td>\n",
       "      <td>4,308,854</td>\n",
       "    </tr>\n",
       "    <tr>\n",
       "      <th>4</th>\n",
       "      <td>India</td>\n",
       "      <td>3,736,882</td>\n",
       "    </tr>\n",
       "    <tr>\n",
       "      <th>...</th>\n",
       "      <td>...</td>\n",
       "      <td>...</td>\n",
       "    </tr>\n",
       "    <tr>\n",
       "      <th>186</th>\n",
       "      <td>Marshall Islands</td>\n",
       "      <td>291</td>\n",
       "    </tr>\n",
       "    <tr>\n",
       "      <th>187</th>\n",
       "      <td>Palau</td>\n",
       "      <td>262</td>\n",
       "    </tr>\n",
       "    <tr>\n",
       "      <th>188</th>\n",
       "      <td>Kiribati</td>\n",
       "      <td>248</td>\n",
       "    </tr>\n",
       "    <tr>\n",
       "      <th>189</th>\n",
       "      <td>Nauru</td>\n",
       "      <td>151</td>\n",
       "    </tr>\n",
       "    <tr>\n",
       "      <th>190</th>\n",
       "      <td>Tuvalu</td>\n",
       "      <td>65</td>\n",
       "    </tr>\n",
       "  </tbody>\n",
       "</table>\n",
       "<p>191 rows × 2 columns</p>\n",
       "</div>"
      ],
      "text/plain": [
       "              Country GDP_USD_millions\n",
       "0       United States       26,854,599\n",
       "1               China       19,373,586\n",
       "2               Japan        4,409,738\n",
       "3             Germany        4,308,854\n",
       "4               India        3,736,882\n",
       "..                ...              ...\n",
       "186  Marshall Islands              291\n",
       "187             Palau              262\n",
       "188          Kiribati              248\n",
       "189             Nauru              151\n",
       "190            Tuvalu               65\n",
       "\n",
       "[191 rows x 2 columns]"
      ]
     },
     "execution_count": 78,
     "metadata": {},
     "output_type": "execute_result"
    }
   ],
   "source": [
    "##Call for the data_extraction function\n",
    "\n",
    "log_progress(\"Preliminaries complete. Initiating ETL process\", log_file_path)\n",
    "\n",
    "df = extract(url, table_attribs)\n",
    "df"
   ]
  },
  {
   "cell_type": "code",
   "execution_count": 79,
   "metadata": {},
   "outputs": [
    {
     "data": {
      "text/html": [
       "<div>\n",
       "<style scoped>\n",
       "    .dataframe tbody tr th:only-of-type {\n",
       "        vertical-align: middle;\n",
       "    }\n",
       "\n",
       "    .dataframe tbody tr th {\n",
       "        vertical-align: top;\n",
       "    }\n",
       "\n",
       "    .dataframe thead th {\n",
       "        text-align: right;\n",
       "    }\n",
       "</style>\n",
       "<table border=\"1\" class=\"dataframe\">\n",
       "  <thead>\n",
       "    <tr style=\"text-align: right;\">\n",
       "      <th></th>\n",
       "      <th>Country</th>\n",
       "      <th>GDP_USD_billion</th>\n",
       "    </tr>\n",
       "  </thead>\n",
       "  <tbody>\n",
       "    <tr>\n",
       "      <th>0</th>\n",
       "      <td>United States</td>\n",
       "      <td>26854.60</td>\n",
       "    </tr>\n",
       "    <tr>\n",
       "      <th>1</th>\n",
       "      <td>China</td>\n",
       "      <td>19373.59</td>\n",
       "    </tr>\n",
       "    <tr>\n",
       "      <th>2</th>\n",
       "      <td>Japan</td>\n",
       "      <td>4409.74</td>\n",
       "    </tr>\n",
       "    <tr>\n",
       "      <th>3</th>\n",
       "      <td>Germany</td>\n",
       "      <td>4308.85</td>\n",
       "    </tr>\n",
       "    <tr>\n",
       "      <th>4</th>\n",
       "      <td>India</td>\n",
       "      <td>3736.88</td>\n",
       "    </tr>\n",
       "    <tr>\n",
       "      <th>...</th>\n",
       "      <td>...</td>\n",
       "      <td>...</td>\n",
       "    </tr>\n",
       "    <tr>\n",
       "      <th>186</th>\n",
       "      <td>Marshall Islands</td>\n",
       "      <td>0.29</td>\n",
       "    </tr>\n",
       "    <tr>\n",
       "      <th>187</th>\n",
       "      <td>Palau</td>\n",
       "      <td>0.26</td>\n",
       "    </tr>\n",
       "    <tr>\n",
       "      <th>188</th>\n",
       "      <td>Kiribati</td>\n",
       "      <td>0.25</td>\n",
       "    </tr>\n",
       "    <tr>\n",
       "      <th>189</th>\n",
       "      <td>Nauru</td>\n",
       "      <td>0.15</td>\n",
       "    </tr>\n",
       "    <tr>\n",
       "      <th>190</th>\n",
       "      <td>Tuvalu</td>\n",
       "      <td>0.06</td>\n",
       "    </tr>\n",
       "  </tbody>\n",
       "</table>\n",
       "<p>191 rows × 2 columns</p>\n",
       "</div>"
      ],
      "text/plain": [
       "              Country  GDP_USD_billion\n",
       "0       United States         26854.60\n",
       "1               China         19373.59\n",
       "2               Japan          4409.74\n",
       "3             Germany          4308.85\n",
       "4               India          3736.88\n",
       "..                ...              ...\n",
       "186  Marshall Islands             0.29\n",
       "187             Palau             0.26\n",
       "188          Kiribati             0.25\n",
       "189             Nauru             0.15\n",
       "190            Tuvalu             0.06\n",
       "\n",
       "[191 rows x 2 columns]"
      ]
     },
     "execution_count": 79,
     "metadata": {},
     "output_type": "execute_result"
    }
   ],
   "source": [
    "## transform the data\n",
    "\n",
    "log_progress(\"Data extraction complete. Initiating Transformation process\", log_file_path)\n",
    "\n",
    "df = transform(df)\n",
    "df"
   ]
  },
  {
   "cell_type": "code",
   "execution_count": 81,
   "metadata": {},
   "outputs": [],
   "source": [
    "## Load the data into csv file\n",
    "\n",
    "log_progress('Data transformation complete. Initiating loading process', log_file_path)\n",
    "load_csv(df, csv_path)\n",
    "\n",
    "log_progress('Data saved to CSV file', log_file_path)"
   ]
  },
  {
   "cell_type": "code",
   "execution_count": 82,
   "metadata": {},
   "outputs": [],
   "source": [
    "#Establish the db connection\n",
    "sql_connection  = sqlite3.connect(db_name)\n",
    "\n",
    "log_progress('SQL Connection initiated.', log_file_path)\n",
    "\n",
    "load_to_db(df, sql_connection, table_name)"
   ]
  },
  {
   "cell_type": "code",
   "execution_count": 83,
   "metadata": {},
   "outputs": [
    {
     "name": "stdout",
     "output_type": "stream",
     "text": [
      "SELECT * FROM Countries_by_GDP LIMIT 10;\n",
      "          Country  GDP_USD_billion\n",
      "0   United States         26854.60\n",
      "1           China         19373.59\n",
      "2           Japan          4409.74\n",
      "3         Germany          4308.85\n",
      "4           India          3736.88\n",
      "5  United Kingdom          3158.94\n",
      "6          France          2923.49\n",
      "7           Italy          2169.74\n",
      "8          Canada          2089.67\n",
      "9          Brazil          2081.24\n"
     ]
    }
   ],
   "source": [
    "## Run queries\n",
    "query_statement = 'SELECT * FROM {} LIMIT 10;'.format(table_name)\n",
    "\n",
    "log_progress('Data loaded to Database as table. Running the query', log_file_path)\n",
    "\n",
    "run_query(query_statement, sql_connection)\n",
    "\n",
    "\n",
    "log_progress('Process Complete.', log_file_path)"
   ]
  },
  {
   "cell_type": "code",
   "execution_count": 84,
   "metadata": {},
   "outputs": [],
   "source": [
    "#Remove the DB Connection\n",
    "sql_connection.close()"
   ]
  }
 ],
 "metadata": {
  "kernelspec": {
   "display_name": "Python 3",
   "language": "python",
   "name": "python3"
  },
  "language_info": {
   "codemirror_mode": {
    "name": "ipython",
    "version": 3
   },
   "file_extension": ".py",
   "mimetype": "text/x-python",
   "name": "python",
   "nbconvert_exporter": "python",
   "pygments_lexer": "ipython3",
   "version": "3.11.6"
  }
 },
 "nbformat": 4,
 "nbformat_minor": 2
}
